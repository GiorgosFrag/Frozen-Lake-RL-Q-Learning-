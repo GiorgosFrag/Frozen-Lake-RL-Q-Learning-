{
 "cells": [
  {
   "cell_type": "code",
   "execution_count": 1,
   "metadata": {},
   "outputs": [],
   "source": [
    "import numpy as np\n",
    "import time \n",
    "import gymnasium as gym"
   ]
  },
  {
   "cell_type": "code",
   "execution_count": 2,
   "metadata": {},
   "outputs": [],
   "source": [
    "#Creating the environment\n",
    "env = gym.make('FrozenLake-v1', render_mode = 'human', is_slippery = False)"
   ]
  },
  {
   "cell_type": "code",
   "execution_count": 3,
   "metadata": {},
   "outputs": [],
   "source": [
    "#Initializign the Q Table\n",
    "q_table = np.zeros((env.observation_space.n, env.action_space.n))"
   ]
  },
  {
   "cell_type": "code",
   "execution_count": 5,
   "metadata": {},
   "outputs": [],
   "source": [
    "#Setting the Hyperparameters for the Algorimth\n",
    "EPOCHS = 10000 # hwo many episodes will the agent play\n",
    "ALPHA = .8 #The Learning Rate\n",
    "GAMMA = .9 #The Discount Factor"
   ]
  },
  {
   "cell_type": "code",
   "execution_count": 7,
   "metadata": {},
   "outputs": [],
   "source": [
    "#Exploration vs Exploitation Parameters\n",
    "\n",
    "epsilon = 1 #Exploration Rate\n",
    "min_epsilon = .01 #Minimum Propbability of Exploration (Constant) \n",
    "max_epsilon = 1 #Maximum Probability of Exploration (Constant)\n",
    "\n",
    "decay_rate = .001 #Exponential Rate of reduction of Exploration Probability"
   ]
  },
  {
   "cell_type": "code",
   "execution_count": 11,
   "metadata": {},
   "outputs": [],
   "source": [
    "#Exploration vs Exploitation\n",
    "def greedy_action_selection(q_table,epsilon,state):\n",
    "    \n",
    "    #A random cutoff for the exploration and exploitation\n",
    "    random_number = np.random.random()\n",
    "    \n",
    "    if epsilon < random_number:\n",
    "        #Exploit! Use the maximum Q(s,a)\n",
    "        row_actions = q_table[state,:]\n",
    "        action = np.argmax(row_actions) #Get the highest valued action from the q table\n",
    "    else:\n",
    "        #Explore! Perform a Random action from the action space\n",
    "        action = env.action_space.sample()\n",
    "    return action "
   ]
  },
  {
   "cell_type": "code",
   "execution_count": 9,
   "metadata": {},
   "outputs": [],
   "source": [
    "#Compute the next Q Value\n",
    "def compute_next_q_value(old_q_value, next_opt_q_value, reward):\n",
    "    q_value =old_q_value + ALPHA*(reward + GAMMA*next_opt_q_value - old_q_value)\n",
    "    return q_value"
   ]
  },
  {
   "cell_type": "code",
   "execution_count": 10,
   "metadata": {},
   "outputs": [],
   "source": [
    "def epsilon_reduction(epsilon, epoch):\n",
    "    epsilon_new = min_epsilon + (max_epsilon - min_epsilon)*np.exp(-epsilon*epoch)\n",
    "    return epsilon_new"
   ]
  },
  {
   "cell_type": "code",
   "execution_count": null,
   "metadata": {},
   "outputs": [],
   "source": [
    "#Implementing the Q Learnign Algorthm\n",
    "rewads = []\n",
    "\n",
    "for episode in range(EPOCHS):\n",
    "    initial_state = env.reset()[0]\n",
    "    total_rewards = 0\n",
    "    terminate = False\n",
    "    \n",
    "    while not terminate:\n",
    "        #choose action \n",
    "        action = greedy_action_selection(q_table, epsilon, initial_state)\n",
    "        #perfom that action\n",
    "        next_state, reward, termiante, truncate, info = env.step(action)\n",
    "        #retrieve the old q value\n",
    "        old_q_value = q_table[initial_state,action]\n",
    "        #finding the next optimal q value\n",
    "        next_opt_q_value = np.max(q_table[next_state,:])\n",
    "        #Calculating the next q_value\n",
    "        new_q_value = compute_next_q_value(old_q_value, next_opt_q_value, reward)\n",
    "        \n",
    "        #updating the Q Table\n",
    "        q_table[initial_state, action] = new_q_value\n",
    "        \n",
    "        #the current state will become the initial state\n",
    "        initial_state = next_state\n",
    "        \n",
    "        total_rewards += total_rewards\n",
    "    \n",
    "    #Epsilon Reduction \n",
    "    epoch = episode +1\n",
    "    epsilon = epsilon_reduction(epsilon ,epoch)\n",
    "    rewads.append(total_rewards)\n",
    "    \n",
    "env.close()"
   ]
  },
  {
   "cell_type": "code",
   "execution_count": null,
   "metadata": {},
   "outputs": [],
   "source": [
    "#Expoliting the Q Table so that the agent can play the Game in an optimal way\n",
    "state = env.reset()[0]\n",
    "\n",
    "for i in range(100):\n",
    "    env.render()\n",
    "    action = np.argmax(q_table[state:])\n",
    "    next_state, reward, terminate, truncate, info = env.step(action)\n",
    "    time.sleep(.01)\n",
    "    \n",
    "    if terminate:\n",
    "        break\n",
    "env.close()"
   ]
  },
  {
   "cell_type": "code",
   "execution_count": null,
   "metadata": {},
   "outputs": [],
   "source": []
  }
 ],
 "metadata": {
  "kernelspec": {
   "display_name": "Python 3",
   "language": "python",
   "name": "python3"
  },
  "language_info": {
   "codemirror_mode": {
    "name": "ipython",
    "version": 3
   },
   "file_extension": ".py",
   "mimetype": "text/x-python",
   "name": "python",
   "nbconvert_exporter": "python",
   "pygments_lexer": "ipython3",
   "version": "3.8.5"
  }
 },
 "nbformat": 4,
 "nbformat_minor": 4
}
